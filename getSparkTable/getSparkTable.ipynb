{
 "cells": [
  {
   "cell_type": "markdown",
   "metadata": {},
   "source": [
    "# Connecting to our database and retrieving data\n",
    "    In this case in particular the database is named irs990 and the filter is credit unions eins"
   ]
  },
  {
   "cell_type": "markdown",
   "metadata": {},
   "source": [
    "## Always start with your imports"
   ]
  },
  {
   "cell_type": "code",
   "execution_count": 1,
   "metadata": {},
   "outputs": [],
   "source": [
    "#imports\n",
    "import pandas as pd\n",
    "import pyspark\n",
    "from pyspark.sql import *\n",
    "from pyspark.sql.types import *\n",
    "from pyspark.sql import functions as f\n",
    "from pyspark import SparkContext, SparkConf\n",
    "import psycopg2\n",
    "import os"
   ]
  },
  {
   "cell_type": "markdown",
   "metadata": {},
   "source": [
    "## Read in our credit unions dataframe from a csv using pandas "
   ]
  },
  {
   "cell_type": "code",
   "execution_count": 2,
   "metadata": {},
   "outputs": [],
   "source": [
    "# read in credit union data\n",
    "dat = pd.read_csv('../data/credit_unions.csv')"
   ]
  },
  {
   "cell_type": "markdown",
   "metadata": {},
   "source": [
    "## Pull the list of eins from our dataframe"
   ]
  },
  {
   "cell_type": "code",
   "execution_count": 3,
   "metadata": {},
   "outputs": [],
   "source": [
    "# create list of CUs eins\n",
    "eins = dat.ein.to_list()"
   ]
  },
  {
   "cell_type": "markdown",
   "metadata": {},
   "source": [
    "## Making the Connection and Session to our Database and Pulling from the Database\n",
    "\n",
    "#### Order:  \n",
    "    Connection -> Session -> Pulling Table"
   ]
  },
  {
   "cell_type": "markdown",
   "metadata": {},
   "source": [
    "#### Make the connection"
   ]
  },
  {
   "cell_type": "code",
   "execution_count": 4,
   "metadata": {},
   "outputs": [],
   "source": [
    "# Actually making the connection\n",
    "connection = psycopg2.connect(\n",
    "    host = 'noahcook_db_1', # Name of database docker container\n",
    "    database = 'irs990', # Name of database\n",
    "    user = 'postgres', # Username for our database\n",
    "    password = 'postgres1234', # Password for our database\n",
    "    port='5432' # Port to be used for our connection\n",
    ")"
   ]
  },
  {
   "cell_type": "markdown",
   "metadata": {},
   "source": [
    "#### Configuration Settings for the session"
   ]
  },
  {
   "cell_type": "code",
   "execution_count": 5,
   "metadata": {},
   "outputs": [],
   "source": [
    "# Configuration settings for the session\n",
    "conf = (SparkConf()\n",
    "    .set(\"spark.ui.port\", \"4041\") # port of which our spark session is running on\n",
    "    .set('spark.executor.memory', '4G') # RAM available to our spark session\n",
    "    .set('spark.driver.memory', '45G') # Simulated HDD for our spark session\n",
    "    .set('spark.driver.maxResultSize', '10G') # Size of largest results back from requests\n",
    "    .set('spark.jars', '/home/jovyan/scratch/postgresql-42.2.18.jar')) # Not sure what this does????"
   ]
  },
  {
   "cell_type": "markdown",
   "metadata": {},
   "source": [
    "#### Actually creating the session and starting it"
   ]
  },
  {
   "cell_type": "code",
   "execution_count": 6,
   "metadata": {},
   "outputs": [],
   "source": [
    "# Create the session\n",
    "spark = SparkSession.builder \\\n",
    "    .appName('test') \\\n",
    "    .config(conf=conf) \\\n",
    "    .getOrCreate()"
   ]
  },
  {
   "cell_type": "markdown",
   "metadata": {},
   "source": [
    "#### Creating the table settings"
   ]
  },
  {
   "cell_type": "code",
   "execution_count": 7,
   "metadata": {},
   "outputs": [],
   "source": [
    "# Creating the properties for the table that we are going to pull from our database\n",
    "table_properties = {\n",
    "    'driver': 'org.postgresql.Driver',  # should match the type of sql that our db uses I think\n",
    "    'url': 'jdbc:postgresql://noahcook_db_1:5432/irs990', # Location of where our database is\n",
    "    'user': 'postgres', # Username for our database\n",
    "    'password': 'postgres1234', # Password for our database\n",
    "    'dbtable': 'return_ezfrgnoffccntrycd', # Name of table in our database that we want to pull\n",
    "}"
   ]
  },
  {
   "cell_type": "markdown",
   "metadata": {},
   "source": [
    "#### Pull table from database and store it in a PySpark DataFrame"
   ]
  },
  {
   "cell_type": "code",
   "execution_count": 8,
   "metadata": {},
   "outputs": [],
   "source": [
    "table = spark.read \\\n",
    "    .format('jdbc') \\\n",
    "    .option('driver', table_properties['driver']) \\\n",
    "    .option('url', table_properties['url']) \\\n",
    "    .option('dbtable', table_properties['dbtable']) \\\n",
    "    .option('user', table_properties['user']) \\\n",
    "    .load()"
   ]
  },
  {
   "cell_type": "markdown",
   "metadata": {},
   "source": [
    "#### Filter data from the dataframe to only include values where the eins match the eins pulled from the credit union Pandas DataFrame earlier."
   ]
  },
  {
   "cell_type": "code",
   "execution_count": 9,
   "metadata": {},
   "outputs": [],
   "source": [
    "cu_table = table.where(f.col(\"ein\").isin(eins))"
   ]
  },
  {
   "cell_type": "markdown",
   "metadata": {},
   "source": [
    "#### Optional: \n",
    "    convert PySpark DatyFrame to a Pandas DataFrame"
   ]
  },
  {
   "cell_type": "code",
   "execution_count": 10,
   "metadata": {},
   "outputs": [],
   "source": [
    "cu_pandas = cu_table.toPandas()"
   ]
  },
  {
   "cell_type": "markdown",
   "metadata": {},
   "source": [
    "#### Optional:\n",
    "    If you are done with Spark you can stop the session"
   ]
  },
  {
   "cell_type": "code",
   "execution_count": 11,
   "metadata": {},
   "outputs": [],
   "source": [
    "spark.stop()"
   ]
  }
 ],
 "metadata": {
  "kernelspec": {
   "display_name": "Python 3",
   "language": "python",
   "name": "python3"
  },
  "language_info": {
   "codemirror_mode": {
    "name": "ipython",
    "version": 3
   },
   "file_extension": ".py",
   "mimetype": "text/x-python",
   "name": "python",
   "nbconvert_exporter": "python",
   "pygments_lexer": "ipython3",
   "version": "3.8.6"
  }
 },
 "nbformat": 4,
 "nbformat_minor": 4
}
